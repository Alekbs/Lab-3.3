{
 "cells": [
  {
   "cell_type": "markdown",
   "id": "8f56033f",
   "metadata": {},
   "source": [
    "## Решение систем линейных уравнений матричным методом "
   ]
  },
  {
   "cell_type": "markdown",
   "id": "b8309e3c",
   "metadata": {},
   "source": [
    "$$\n",
    "\\left\\{\\begin{array}\\\\\n",
    "    x_1 - x_2 + 2x_3 = 4\\\\\n",
    "    x_1 + 5x_2 - 4x_3 = -3\\\\\n",
    "    x_1 - 8x2 - 7x_3 = 6\n",
    "    \\end{array}\n",
    "    \\right.\n",
    "$$\n",
    "    "
   ]
  },
  {
   "cell_type": "code",
   "execution_count": 10,
   "id": "d18e9504",
   "metadata": {},
   "outputs": [],
   "source": [
    "import numpy as np"
   ]
  },
  {
   "cell_type": "code",
   "execution_count": 20,
   "id": "401f40dd",
   "metadata": {},
   "outputs": [
    {
     "name": "stdout",
     "output_type": "stream",
     "text": [
      "[[ 1 -1  2]\n",
      " [ 1  5 -4]\n",
      " [ 1 -8 -7]]\n"
     ]
    }
   ],
   "source": [
    "A = np.matrix('1 -1 2; 1 5 -4; 1 -8 -7')\n",
    "B = np.matrix('4; -3; 6')\n",
    "print(A)"
   ]
  },
  {
   "cell_type": "code",
   "execution_count": 21,
   "id": "40e2fbe3",
   "metadata": {},
   "outputs": [
    {
     "name": "stdout",
     "output_type": "stream",
     "text": [
      "[[ 4]\n",
      " [-3]\n",
      " [ 6]]\n"
     ]
    }
   ],
   "source": [
    "print(B)"
   ]
  },
  {
   "cell_type": "code",
   "execution_count": 22,
   "id": "a0faf107",
   "metadata": {},
   "outputs": [
    {
     "name": "stdout",
     "output_type": "stream",
     "text": [
      "-95.99999999999999\n"
     ]
    }
   ],
   "source": [
    "print(np.linalg.det(A))"
   ]
  },
  {
   "cell_type": "markdown",
   "id": "40b89223",
   "metadata": {},
   "source": [
    "#### Определитель не равняется 0, следовательно, для этой системы подходит метод решения обратной матрицей"
   ]
  },
  {
   "cell_type": "markdown",
   "id": "725944a2",
   "metadata": {},
   "source": [
    "#### Находим обратную матрицу"
   ]
  },
  {
   "cell_type": "code",
   "execution_count": 23,
   "id": "1e925057",
   "metadata": {},
   "outputs": [
    {
     "name": "stdout",
     "output_type": "stream",
     "text": [
      "[[ 0.69791667  0.23958333  0.0625    ]\n",
      " [-0.03125     0.09375    -0.0625    ]\n",
      " [ 0.13541667 -0.07291667 -0.0625    ]]\n"
     ]
    }
   ],
   "source": [
    "A_inv = np.linalg.inv(A)\n",
    "print(A_inv)"
   ]
  },
  {
   "cell_type": "markdown",
   "id": "06ca0383",
   "metadata": {},
   "source": [
    "#### Решение системы линейных алгебраических уравнений матричным методом определяется по формуле $$ X = A^{-1} * B $$"
   ]
  },
  {
   "cell_type": "code",
   "execution_count": 24,
   "id": "92ce559e",
   "metadata": {},
   "outputs": [
    {
     "name": "stdout",
     "output_type": "stream",
     "text": [
      "[[ 2.44791667]\n",
      " [-0.78125   ]\n",
      " [ 0.38541667]]\n"
     ]
    }
   ],
   "source": [
    "X = A_inv.dot(B)\n",
    "print(X)"
   ]
  },
  {
   "cell_type": "code",
   "execution_count": 25,
   "id": "de086776",
   "metadata": {},
   "outputs": [
    {
     "name": "stdout",
     "output_type": "stream",
     "text": [
      "x1 =  [[2.44791667]]\n",
      "x2 =  [[-0.78125]]\n",
      "x3 =  [[0.38541667]]\n"
     ]
    }
   ],
   "source": [
    "print(\"x1 = \", X[0])\n",
    "print(\"x2 = \", X[1])\n",
    "print(\"x3 = \", X[2])"
   ]
  },
  {
   "cell_type": "markdown",
   "id": "3a5e2d3c",
   "metadata": {},
   "source": [
    "## Решение систем линейных уравнений методом Крамера"
   ]
  },
  {
   "cell_type": "code",
   "execution_count": 39,
   "id": "2fb511be",
   "metadata": {},
   "outputs": [],
   "source": [
    "a1 = [1, 1, 1]\n",
    "a2 = [-1, 5, -8]\n",
    "a3 = [2, -4, -7]\n",
    "b = [4, -3, 6]"
   ]
  },
  {
   "cell_type": "code",
   "execution_count": 41,
   "id": "3fc77380",
   "metadata": {},
   "outputs": [
    {
     "name": "stdout",
     "output_type": "stream",
     "text": [
      "[[ 1 -1  2]\n",
      " [ 1  5 -4]\n",
      " [ 1 -8 -7]]\n"
     ]
    }
   ],
   "source": [
    "A = np.transpose(np.matrix([a1, a2, a3]))\n",
    "print(A)"
   ]
  },
  {
   "cell_type": "code",
   "execution_count": 42,
   "id": "32d51692",
   "metadata": {},
   "outputs": [
    {
     "name": "stdout",
     "output_type": "stream",
     "text": [
      "[[ 4]\n",
      " [-3]\n",
      " [ 6]]\n"
     ]
    }
   ],
   "source": [
    "B = np.transpose(np.matrix([b]))\n",
    "print(B)"
   ]
  },
  {
   "cell_type": "markdown",
   "id": "fc57eef4",
   "metadata": {},
   "source": [
    "#### Определяем вспомогательные матрицы"
   ]
  },
  {
   "cell_type": "code",
   "execution_count": 43,
   "id": "b642d781",
   "metadata": {},
   "outputs": [
    {
     "name": "stdout",
     "output_type": "stream",
     "text": [
      "[[ 4 -1  2]\n",
      " [-3  5 -4]\n",
      " [ 6 -8 -7]]\n"
     ]
    }
   ],
   "source": [
    "A1 = np.transpose(np.matrix([b, a2, a3]))\n",
    "print(A1)"
   ]
  },
  {
   "cell_type": "code",
   "execution_count": 44,
   "id": "e60485f9",
   "metadata": {},
   "outputs": [
    {
     "name": "stdout",
     "output_type": "stream",
     "text": [
      "[[ 1  4  2]\n",
      " [ 1 -3 -4]\n",
      " [ 1  6 -7]]\n"
     ]
    }
   ],
   "source": [
    "A2 = np.transpose(np.matrix([a1, b, a3]))\n",
    "print(A2)"
   ]
  },
  {
   "cell_type": "code",
   "execution_count": 45,
   "id": "8e634aa2",
   "metadata": {},
   "outputs": [
    {
     "name": "stdout",
     "output_type": "stream",
     "text": [
      "[[ 1 -1  4]\n",
      " [ 1  5 -3]\n",
      " [ 1 -8  6]]\n"
     ]
    }
   ],
   "source": [
    "A3 = np.transpose(np.matrix([a1, a2, b]))\n",
    "print(A3)"
   ]
  },
  {
   "cell_type": "markdown",
   "id": "5ab9ddc2",
   "metadata": {},
   "source": [
    "#### Находим определители главной и вспомогательной матриц"
   ]
  },
  {
   "cell_type": "code",
   "execution_count": 46,
   "id": "51300b2f",
   "metadata": {},
   "outputs": [
    {
     "name": "stdout",
     "output_type": "stream",
     "text": [
      "|A| =  -96\n",
      "|A1| =  -235\n",
      "|A2| =  75\n",
      "|A3| =  -37\n"
     ]
    }
   ],
   "source": [
    "A_det = round(np.linalg.det(A))\n",
    "A1_det = round(np.linalg.det(A1))\n",
    "A2_det = round(np.linalg.det(A2))\n",
    "A3_det = round(np.linalg.det(A3))\n",
    "print(\"|A| = \", A_det)\n",
    "print(\"|A1| = \", A1_det)\n",
    "print(\"|A2| = \", A2_det)\n",
    "print(\"|A3| = \", A3_det)"
   ]
  },
  {
   "cell_type": "code",
   "execution_count": 47,
   "id": "5d3fba9f",
   "metadata": {},
   "outputs": [
    {
     "name": "stdout",
     "output_type": "stream",
     "text": [
      "x1 =  2.4479166666666665\n",
      "x2 =  -0.78125\n",
      "x3 =  0.3854166666666667\n"
     ]
    }
   ],
   "source": [
    "x1 = A1_det / A_det\n",
    "x2 = A2_det / A_det\n",
    "x3 = A3_det / A_det\n",
    "print(\"x1 = \", x1)\n",
    "print(\"x2 = \", x2)\n",
    "print(\"x3 = \", x3)"
   ]
  }
 ],
 "metadata": {
  "kernelspec": {
   "display_name": "Python 3 (ipykernel)",
   "language": "python",
   "name": "python3"
  },
  "language_info": {
   "codemirror_mode": {
    "name": "ipython",
    "version": 3
   },
   "file_extension": ".py",
   "mimetype": "text/x-python",
   "name": "python",
   "nbconvert_exporter": "python",
   "pygments_lexer": "ipython3",
   "version": "3.9.13"
  }
 },
 "nbformat": 4,
 "nbformat_minor": 5
}
